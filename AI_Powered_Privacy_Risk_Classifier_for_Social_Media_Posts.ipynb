{
  "nbformat": 4,
  "nbformat_minor": 0,
  "metadata": {
    "colab": {
      "provenance": [],
      "authorship_tag": "ABX9TyPQV/y8o2akFw2GiNiLOR+h",
      "include_colab_link": true
    },
    "kernelspec": {
      "name": "python3",
      "display_name": "Python 3"
    },
    "language_info": {
      "name": "python"
    }
  },
  "cells": [
    {
      "cell_type": "markdown",
      "metadata": {
        "id": "view-in-github",
        "colab_type": "text"
      },
      "source": [
        "<a href=\"https://colab.research.google.com/github/latheshkumarsr/AI-Powered-Privacy-Risk-Classifier-for-Social-Media-Posts/blob/main/AI_Powered_Privacy_Risk_Classifier_for_Social_Media_Posts.ipynb\" target=\"_parent\"><img src=\"https://colab.research.google.com/assets/colab-badge.svg\" alt=\"Open In Colab\"/></a>"
      ]
    },
    {
      "cell_type": "code",
      "execution_count": null,
      "metadata": {
        "id": "I7ruafbrn8h2"
      },
      "outputs": [],
      "source": []
    }
  ]
}